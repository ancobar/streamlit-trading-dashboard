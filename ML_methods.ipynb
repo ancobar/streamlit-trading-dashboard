{
 "cells": [
  {
   "cell_type": "markdown",
   "id": "c3673c0b-3469-4876-bf62-34f1b8d8b2cf",
   "metadata": {},
   "source": [
    "We start by loading our processed data from the ETL step."
   ]
  },
  {
   "cell_type": "code",
   "execution_count": 37,
   "id": "bd89134b-aadd-4beb-a46d-f65f9b1bb723",
   "metadata": {
    "scrolled": true
   },
   "outputs": [
    {
     "name": "stdout",
     "output_type": "stream",
     "text": [
      "  Ticker        Date  Close  Price Movement\n",
      "0   AAPL  2019-04-08  50.02               0\n",
      "1   AAPL  2019-04-09  49.88               1\n",
      "2   AAPL  2019-04-10  50.16               0\n",
      "3   AAPL  2019-04-11  49.74               0\n",
      "4   AAPL  2019-04-12  49.72               1\n",
      "Final shape: (7428, 13)\n",
      "Duplicate rows remaining: 0\n"
     ]
    },
    {
     "name": "stderr",
     "output_type": "stream",
     "text": [
      "/var/folders/x4/zkcdjj_53wnfm3vw5z7y9n480000gn/T/ipykernel_3294/1030810741.py:16: DeprecationWarning: DataFrameGroupBy.apply operated on the grouping columns. This behavior is deprecated, and in a future version of pandas the grouping columns will be excluded from the operation. Either pass `include_groups=False` to exclude the groupings or explicitly select the grouping columns after groupby to silence this warning.\n",
      "  df = df.groupby(\"Ticker\", group_keys=False).apply(lambda x: x.iloc[:-1]).reset_index(drop=True)\n"
     ]
    }
   ],
   "source": [
    "import pandas as pd\n",
    "\n",
    "# Load processed dataset from ETL step\n",
    "df = pd.read_csv(\"processed_data.csv\")\n",
    "\n",
    "# Sort by Ticker and Date to ensure correct ordering\n",
    "df = df.sort_values(by=[\"Ticker\", \"Date\"])\n",
    "\n",
    "# Remove duplicate rows (keeping the first occurrence)\n",
    "df = df.drop_duplicates(subset=[\"Ticker\", \"Date\"])\n",
    "\n",
    "# Create the target variable (1 = Price Up, 0 = Price Down)\n",
    "df[\"Price Movement\"] = (df.groupby(\"Ticker\")[\"Close\"].shift(-1) > df[\"Close\"]).astype(int)\n",
    "\n",
    "# Drop last row per Ticker (since it has no future price data)\n",
    "df = df.groupby(\"Ticker\", group_keys=False).apply(lambda x: x.iloc[:-1]).reset_index(drop=True)\n",
    "\n",
    "# Display dataset structure\n",
    "print(df[[\"Ticker\", \"Date\", \"Close\", \"Price Movement\"]].head())\n",
    "\n",
    "# Confirm no duplicate rows remain\n",
    "print(f\"Final shape: {df.shape}\")\n",
    "print(f\"Duplicate rows remaining: {df.duplicated(subset=['Ticker', 'Date']).sum()}\")"
   ]
  },
  {
   "cell_type": "markdown",
   "id": "b2e523cb-4d51-4be7-b72f-026aceaa836b",
   "metadata": {},
   "source": [
    "Now we are adding new features such as:\n",
    "- Past Price Changes\n",
    "- Moving averages\n",
    "- Volatility"
   ]
  },
  {
   "cell_type": "code",
   "execution_count": 39,
   "id": "ee6fbd5a-793f-43c2-95fd-9825ad9be97f",
   "metadata": {},
   "outputs": [
    {
     "name": "stdout",
     "output_type": "stream",
     "text": [
      "  Ticker Company Name  IndustryId  Fiscal Year Fiscal Period      Revenue  \\\n",
      "0   AAPL    APPLE INC      101001         2019            Q3  53809000000   \n",
      "1   AAPL    APPLE INC      101001         2019            Q3  53809000000   \n",
      "2   AAPL    APPLE INC      101001         2019            Q3  53809000000   \n",
      "3   AAPL    APPLE INC      101001         2019            Q3  53809000000   \n",
      "4   AAPL    APPLE INC      101001         2019            Q3  53809000000   \n",
      "\n",
      "   Operating Expenses   Net Income        Date   Open  ...       MA_7  \\\n",
      "0         -8683000000  10044000000  2019-05-06  51.07  ...  51.768571   \n",
      "1         -8683000000  10044000000  2019-05-07  51.47  ...  51.717143   \n",
      "2         -8683000000  10044000000  2019-05-08  50.48  ...  51.657143   \n",
      "3         -8683000000  10044000000  2019-05-09  50.10  ...  51.658571   \n",
      "4         -8683000000  10044000000  2019-05-10  49.35  ...  51.182857   \n",
      "\n",
      "       MA_14  Volatility_7d     RSI_14    MA_20   BB_Upper   BB_Lower  \\\n",
      "0  51.432143       0.993469  64.137087  50.9690  53.049778  48.888222   \n",
      "1  51.497143       1.043132  54.754441  51.0040  53.040647  48.967353   \n",
      "2  51.493571       1.092119  49.709640  51.0465  53.018849  49.074151   \n",
      "3  51.437143       1.089854  45.596433  51.0475  53.017975  49.077025   \n",
      "4  51.306429       1.301393  40.557276  51.0255  53.066021  48.984979   \n",
      "\n",
      "      EMA_12     EMA_26      MACD  \n",
      "0  51.618345  51.050408  0.567937  \n",
      "1  51.480138  51.025933  0.454204  \n",
      "2  51.364732  51.004012  0.360720  \n",
      "3  51.182466  50.942975  0.239491  \n",
      "4  50.892856  50.821273  0.071583  \n",
      "\n",
      "[5 rows x 26 columns]\n"
     ]
    }
   ],
   "source": [
    "# Create past return features\n",
    "df[\"Return_1d\"] = df.groupby(\"Ticker\")[\"Close\"].pct_change(1)\n",
    "df[\"Return_3d\"] = df.groupby(\"Ticker\")[\"Close\"].pct_change(3)\n",
    "df[\"Return_7d\"] = df.groupby(\"Ticker\")[\"Close\"].pct_change(7)\n",
    "\n",
    "# Create moving average features\n",
    "df[\"MA_7\"] = df.groupby(\"Ticker\")[\"Close\"].transform(lambda x: x.rolling(window=7).mean())\n",
    "df[\"MA_14\"] = df.groupby(\"Ticker\")[\"Close\"].transform(lambda x: x.rolling(window=14).mean())\n",
    "\n",
    "# Create volatility feature (Standard deviation over last 7 days)\n",
    "df[\"Volatility_7d\"] = df.groupby(\"Ticker\")[\"Close\"].transform(lambda x: x.rolling(window=7).std())\n",
    "\n",
    "# Compute Relative Strength Index (RSI)\n",
    "def compute_rsi(series, window=14):\n",
    "    delta = series.diff()\n",
    "    gain = (delta.where(delta > 0, 0)).rolling(window=window).mean()\n",
    "    loss = (-delta.where(delta < 0, 0)).rolling(window=window).mean()\n",
    "    rs = gain / loss\n",
    "    return 100 - (100 / (1 + rs))\n",
    "\n",
    "df[\"RSI_14\"] = df.groupby(\"Ticker\")[\"Close\"].transform(lambda x: compute_rsi(x, window=14))\n",
    "\n",
    "# Compute Bollinger Bands (20-day window)\n",
    "df[\"MA_20\"] = df.groupby(\"Ticker\")[\"Close\"].transform(lambda x: x.rolling(window=20).mean())\n",
    "df[\"BB_Upper\"] = df[\"MA_20\"] + (df.groupby(\"Ticker\")[\"Close\"].transform(lambda x: x.rolling(window=20).std()) * 2)\n",
    "df[\"BB_Lower\"] = df[\"MA_20\"] - (df.groupby(\"Ticker\")[\"Close\"].transform(lambda x: x.rolling(window=20).std()) * 2)\n",
    "\n",
    "# Compute MACD (12-day and 26-day moving averages)\n",
    "df[\"EMA_12\"] = df.groupby(\"Ticker\")[\"Close\"].transform(lambda x: x.ewm(span=12, adjust=False).mean())\n",
    "df[\"EMA_26\"] = df.groupby(\"Ticker\")[\"Close\"].transform(lambda x: x.ewm(span=26, adjust=False).mean())\n",
    "df[\"MACD\"] = df[\"EMA_12\"] - df[\"EMA_26\"]\n",
    "\n",
    "# Drop rows with NaN values (caused by rolling calculations)\n",
    "df = df.dropna().reset_index(drop=True)\n",
    "\n",
    "# Display updated dataset\n",
    "print(df.head())"
   ]
  },
  {
   "cell_type": "markdown",
   "id": "fb916d2f-71aa-4f98-b56f-4725d2668d8c",
   "metadata": {},
   "source": [
    "With the calculated features we will now train the ML Model (Logistic Regression)"
   ]
  },
  {
   "cell_type": "code",
   "execution_count": 41,
   "id": "f5e71a2b-f4f1-4b86-9d44-817ddf5265ec",
   "metadata": {},
   "outputs": [],
   "source": [
    "from sklearn.model_selection import train_test_split\n",
    "from sklearn.preprocessing import StandardScaler\n",
    "from sklearn.linear_model import LogisticRegression\n",
    "from sklearn.metrics import accuracy_score, classification_report\n",
    "\n",
    "# Define features (X) and target variable (y)\n",
    "features = [\"Return_1d\", \"Return_3d\", \"Return_7d\", \"MA_7\", \"MA_14\", \"Volatility_7d\"]\n",
    "X = df[features]\n",
    "y = df[\"Price Movement\"]\n",
    "\n",
    "# Split into training (80%) and testing (20%) sets\n",
    "X_train, X_test, y_train, y_test = train_test_split(X, y, test_size=0.2, shuffle=False, random_state=42)\n",
    "\n",
    "# Standardize features (Logistic Regression performs better with scaled data)\n",
    "scaler = StandardScaler()\n",
    "X_train_scaled = scaler.fit_transform(X_train)\n",
    "X_test_scaled = scaler.transform(X_test)"
   ]
  },
  {
   "cell_type": "code",
   "execution_count": 42,
   "id": "bc152012-978f-4eb4-a5e4-c5593ceff8d6",
   "metadata": {},
   "outputs": [],
   "source": [
    "# Initialize and train the Logistic Regression model\n",
    "model = LogisticRegression()\n",
    "model.fit(X_train_scaled, y_train)\n",
    "\n",
    "# Make predictions\n",
    "y_pred = model.predict(X_test_scaled)"
   ]
  },
  {
   "cell_type": "code",
   "execution_count": 43,
   "id": "98a5acca-c5a9-4f67-837e-1bc207215eba",
   "metadata": {},
   "outputs": [
    {
     "name": "stdout",
     "output_type": "stream",
     "text": [
      "Model Accuracy: 0.55\n",
      "Classification Report:\n",
      "              precision    recall  f1-score   support\n",
      "\n",
      "           0       0.53      0.17      0.25       670\n",
      "           1       0.55      0.88      0.68       793\n",
      "\n",
      "    accuracy                           0.55      1463\n",
      "   macro avg       0.54      0.52      0.47      1463\n",
      "weighted avg       0.54      0.55      0.48      1463\n",
      "\n"
     ]
    }
   ],
   "source": [
    "# Calculate accuracy\n",
    "accuracy = accuracy_score(y_test, y_pred)\n",
    "print(f\"Model Accuracy: {accuracy:.2f}\")\n",
    "\n",
    "# Show classification report (Precision, Recall, F1-score)\n",
    "print(\"Classification Report:\")\n",
    "print(classification_report(y_test, y_pred))"
   ]
  },
  {
   "cell_type": "markdown",
   "id": "fae273cf-b459-4148-a31b-0434d941a27c",
   "metadata": {},
   "source": [
    "The Logistic Regression is our baseline model and provides a reference for following ML methods. It is not as accurate as we hoped as it assumes a linear trend and tends to prefer giving predictions that stock prices will move up"
   ]
  },
  {
   "cell_type": "markdown",
   "id": "5c2fba37-f283-4254-aad8-5071a1f31105",
   "metadata": {},
   "source": [
    "In this next step we will create a more sophisticated model - Random Forest Classifier"
   ]
  },
  {
   "cell_type": "code",
   "execution_count": 46,
   "id": "cb6c175d-bb79-4f00-9541-be62f68caa34",
   "metadata": {},
   "outputs": [
    {
     "name": "stdout",
     "output_type": "stream",
     "text": [
      "Model Accuracy (Random Forest): 0.53\n",
      "Classification Report (Random Forest):\n",
      "              precision    recall  f1-score   support\n",
      "\n",
      "           0       0.48      0.28      0.35       670\n",
      "           1       0.55      0.75      0.64       793\n",
      "\n",
      "    accuracy                           0.53      1463\n",
      "   macro avg       0.52      0.51      0.49      1463\n",
      "weighted avg       0.52      0.53      0.51      1463\n",
      "\n"
     ]
    }
   ],
   "source": [
    "from sklearn.ensemble import RandomForestClassifier\n",
    "\n",
    "# Train a more advanced model - Random Forest Classifier\n",
    "rf_model = RandomForestClassifier(n_estimators=100, random_state=42)\n",
    "rf_model.fit(X_train_scaled, y_train)  # Using original stock price dataset\n",
    "\n",
    "# Make predictions\n",
    "y_pred_rf = rf_model.predict(X_test_scaled)\n",
    "\n",
    "# Evaluate the Random Forest model\n",
    "accuracy_rf = accuracy_score(y_test, y_pred_rf)\n",
    "print(f\"Model Accuracy (Random Forest): {accuracy_rf:.2f}\")\n",
    "print(\"Classification Report (Random Forest):\")\n",
    "print(classification_report(y_test, y_pred_rf))"
   ]
  },
  {
   "cell_type": "markdown",
   "id": "4db58519-0a83-48e0-9a31-55605da44c43",
   "metadata": {},
   "source": [
    "As RF has only slightly improved model accuracy we will try another method, XGBoost which is good in handling tabular data."
   ]
  },
  {
   "cell_type": "code",
   "execution_count": 48,
   "id": "9d8ae9cc-2e08-4d85-86a1-ade3144192eb",
   "metadata": {},
   "outputs": [
    {
     "name": "stdout",
     "output_type": "stream",
     "text": [
      "Requirement already satisfied: xgboost in /opt/anaconda3/lib/python3.12/site-packages (2.1.4)\n",
      "Requirement already satisfied: numpy in /opt/anaconda3/lib/python3.12/site-packages (from xgboost) (1.26.4)\n",
      "Requirement already satisfied: scipy in /opt/anaconda3/lib/python3.12/site-packages (from xgboost) (1.13.1)\n"
     ]
    }
   ],
   "source": [
    "!pip install xgboost"
   ]
  },
  {
   "cell_type": "code",
   "execution_count": 49,
   "id": "94fb64f8-c760-4e24-94d2-691d161987b2",
   "metadata": {},
   "outputs": [
    {
     "name": "stdout",
     "output_type": "stream",
     "text": [
      "Model Accuracy (XGBoost): 0.51\n",
      "Classification Report (XGBoost):\n",
      "              precision    recall  f1-score   support\n",
      "\n",
      "           0       0.47      0.60      0.53       670\n",
      "           1       0.56      0.43      0.49       793\n",
      "\n",
      "    accuracy                           0.51      1463\n",
      "   macro avg       0.52      0.52      0.51      1463\n",
      "weighted avg       0.52      0.51      0.51      1463\n",
      "\n"
     ]
    }
   ],
   "source": [
    "import xgboost as xgb\n",
    "from sklearn.metrics import accuracy_score, classification_report\n",
    "\n",
    "# Train XGBoost Model\n",
    "xgb_model = xgb.XGBClassifier(n_estimators=100, learning_rate=0.1, random_state=42)\n",
    "xgb_model.fit(X_train_scaled, y_train)\n",
    "\n",
    "# Make Predictions\n",
    "y_pred_xgb = xgb_model.predict(X_test_scaled)\n",
    "\n",
    "# Evaluate XGBoost Model\n",
    "accuracy_xgb = accuracy_score(y_test, y_pred_xgb)\n",
    "print(f\"Model Accuracy (XGBoost): {accuracy_xgb:.2f}\")\n",
    "print(\"Classification Report (XGBoost):\")\n",
    "print(classification_report(y_test, y_pred_xgb))"
   ]
  },
  {
   "cell_type": "code",
   "execution_count": 50,
   "id": "bbc84fb0-f175-43e3-bc2b-a8d877b1dfca",
   "metadata": {},
   "outputs": [],
   "source": [
    "from datetime import datetime\n",
    "\n",
    "# Get the current timestamp\n",
    "timestamp = datetime.now().strftime(\"%Y-%m-%d %H:%M:%S\")\n",
    "\n",
    "# Define log message\n",
    "log_message = f\"\"\"\n",
    "[{timestamp}] Model Selection Summary:\n",
    "- Logistic Regression Accuracy: 55%\n",
    "- Random Forest Accuracy: 53%\n",
    "- XGBoost Accuracy: 51%\n",
    "- Random Forest was selected as the final model for deployment, as it shows the best balance between Precision and Recall.\n",
    "\"\"\"\n",
    "\n",
    "# Append message to log file\n",
    "with open(\"etl_log.txt\", \"a\") as log_file:\n",
    "    log_file.write(log_message + \"\\n\")"
   ]
  },
  {
   "cell_type": "markdown",
   "id": "106adde8-09af-4bde-b3ad-67f6ce7caac8",
   "metadata": {},
   "source": [
    "We will now proceed with Step 1.3 from the instructions sheet, creating models for more precise trading recommendations. We will implement a mix of the two options and implement a Buy-Sell-Hold strategy.\n",
    "General rules for the trading strategy:\n",
    "- At the start capital is distributed equally across the 6 stocks that we picked\n",
    "- We only buy if we have enough capital and we are only allowed to hold a maximum of 5 stocks per company to prevent over investment\n",
    "- If the ML model predicts a price decrease we hold and only sell if the stock falls by more than 5%\n",
    "- We sell when the stock rises by more than 10% to cash in profits and if we hold at least 1 stock"
   ]
  },
  {
   "cell_type": "code",
   "execution_count": 54,
   "id": "7e210d64-852d-4226-b7b6-83730a668e7f",
   "metadata": {},
   "outputs": [
    {
     "name": "stdout",
     "output_type": "stream",
     "text": [
      "🔍 Updated Initial Capital Per Stock: {'AAPL': 50.946666666666715, 'AMZN': 8.656666666666752, 'GOOG': 1.506666666666888, 'META': 115.62666666666678, 'MSFT': 0.716666666666697, 'NVDA': 1.6666666666667425}\n",
      "📝 Updated Initial Shares Held: {'AAPL': 31, 'AMZN': 17, 'GOOG': 28, 'META': 8, 'MSFT': 13, 'NVDA': 370}\n"
     ]
    }
   ],
   "source": [
    "import pandas as pd\n",
    "import numpy as np\n",
    "\n",
    "# Start with $10,000 capital\n",
    "initial_capital = 10000\n",
    "\n",
    "# Get unique stock tickers\n",
    "tickers = df[\"Ticker\"].unique()\n",
    "\n",
    "# Allocate initial capital equally among all tickers\n",
    "capital = {ticker: initial_capital / len(tickers) for ticker in tickers}\n",
    "\n",
    "# Dictionary to track how many shares we own per stock\n",
    "shares_held = {}\n",
    "\n",
    "# Allocate capital properly: Buy as many whole shares as possible\n",
    "for ticker in tickers:\n",
    "    # Get the first available closing price for each stock\n",
    "    share_price = df[df[\"Ticker\"] == ticker][\"Close\"].iloc[0]\n",
    "    shares_held[ticker] = int(capital[ticker] / share_price)  # Buy max whole shares\n",
    "    capital[ticker] -= shares_held[ticker] * share_price  # Deduct used capital\n",
    "\n",
    "# ✅ Debugging: Check the updated allocation\n",
    "print(\"🔍 Updated Initial Capital Per Stock:\", capital)\n",
    "print(\"📝 Updated Initial Shares Held:\", shares_held)"
   ]
  },
  {
   "cell_type": "code",
   "execution_count": 55,
   "id": "f43beb71-a90e-4017-859d-06ad4f284836",
   "metadata": {},
   "outputs": [
    {
     "name": "stdout",
     "output_type": "stream",
     "text": [
      "  Ticker        Date  Close  Price Change % Action\n",
      "0   AAPL  2019-05-06  52.12             NaN   HOLD\n",
      "1   AAPL  2019-05-07  50.72       -2.686109    BUY\n",
      "2   AAPL  2019-05-08  50.73        0.019716   HOLD\n",
      "3   AAPL  2019-05-09  50.18       -1.084171   HOLD\n",
      "4   AAPL  2019-05-10  49.30       -1.753687   HOLD\n",
      "5   AAPL  2019-05-13  46.43       -5.821501    BUY\n",
      "6   AAPL  2019-05-14  47.16        1.572259    BUY\n",
      "7   AAPL  2019-05-15  47.73        1.208651   HOLD\n",
      "8   AAPL  2019-05-16  47.52       -0.439975   HOLD\n",
      "9   AAPL  2019-05-17  47.25       -0.568182   HOLD\n"
     ]
    }
   ],
   "source": [
    "# Define thresholds\n",
    "STOP_LOSS_PERCENT = 5    # Sell if price drops more than 5%\n",
    "PROFIT_TAKE_PERCENT = 10 # Sell if price increases more than 10%\n",
    "MIN_CAPITAL = 500        # Stop buying if capital is below $500\n",
    "\n",
    "# Compute percentage change from previous day's close\n",
    "df[\"Price Change %\"] = df.groupby(\"Ticker\")[\"Close\"].pct_change() * 100\n",
    "\n",
    "# Apply trading logic per stock\n",
    "def trading_logic(row):\n",
    "    if row[\"Price Movement\"] == 1:  # Price increased\n",
    "        return \"BUY\"\n",
    "    elif row[\"Price Movement\"] == 0 and row[\"Price Change %\"] > -STOP_LOSS_PERCENT:\n",
    "        return \"HOLD\"\n",
    "    elif row[\"Price Change %\"] < -STOP_LOSS_PERCENT or row[\"Price Change %\"] > PROFIT_TAKE_PERCENT:\n",
    "        return \"SELL\"\n",
    "    else:\n",
    "        return \"HOLD\"\n",
    "\n",
    "df[\"Action\"] = df.apply(trading_logic, axis=1)\n",
    "\n",
    "# ✅ Debugging: Ensure \"Action\" is assigned correctly\n",
    "print(df[[\"Ticker\", \"Date\", \"Close\", \"Price Change %\", \"Action\"]].head(10))"
   ]
  },
  {
   "cell_type": "code",
   "execution_count": 56,
   "id": "964fc121-9e09-4700-aac3-4443c9fccb73",
   "metadata": {},
   "outputs": [
    {
     "name": "stdout",
     "output_type": "stream",
     "text": [
      "💰 Final Portfolio Value: $157,114.73\n"
     ]
    }
   ],
   "source": [
    "# Reset capital & shares for simulation\n",
    "capital = {ticker: initial_capital / len(tickers) for ticker in tickers}\n",
    "shares_held = {ticker: 0 for ticker in tickers}\n",
    "portfolio_values = []\n",
    "capital_history = []\n",
    "stock_value_history = []\n",
    "\n",
    "# Simulate trading over time\n",
    "for index, row in df.iterrows():\n",
    "    ticker = row[\"Ticker\"]\n",
    "\n",
    "    # BUY: Purchase as many whole shares as possible\n",
    "    if row[\"Action\"] == \"BUY\" and capital[ticker] >= row[\"Close\"]:\n",
    "        shares_to_buy = int(capital[ticker] / row[\"Close\"])\n",
    "        shares_held[ticker] += shares_to_buy\n",
    "        capital[ticker] -= shares_to_buy * row[\"Close\"]\n",
    "\n",
    "    # SELL: Sell all available shares when triggered\n",
    "    elif row[\"Action\"] == \"SELL\" and shares_held[ticker] > 0:\n",
    "        capital[ticker] += shares_held[ticker] * row[\"Close\"]\n",
    "        shares_held[ticker] = 0  # Reset holdings after selling\n",
    "\n",
    "    # Calculate total portfolio value\n",
    "    total_stock_value = sum(shares_held[t] * row[\"Close\"] for t in tickers)\n",
    "    total_portfolio_value = sum(capital.values()) + total_stock_value\n",
    "\n",
    "    portfolio_values.append(total_portfolio_value)\n",
    "    capital_history.append(sum(capital.values()))\n",
    "    stock_value_history.append(total_stock_value)\n",
    "\n",
    "# Store values in df\n",
    "df[\"Capital\"] = capital_history\n",
    "df[\"Total Stock Value\"] = stock_value_history\n",
    "df[\"Total Portfolio Value\"] = portfolio_values\n",
    "\n",
    "# Display final portfolio value\n",
    "print(f\"💰 Final Portfolio Value: ${df['Total Portfolio Value'].iloc[-1]:,.2f}\")"
   ]
  },
  {
   "cell_type": "code",
   "execution_count": 57,
   "id": "88fe732c-9ea1-4437-a9ec-2b12f6483453",
   "metadata": {},
   "outputs": [
    {
     "name": "stderr",
     "output_type": "stream",
     "text": [
      "/opt/anaconda3/lib/python3.12/site-packages/IPython/core/pylabtools.py:170: UserWarning: Glyph 128200 (\\N{CHART WITH UPWARDS TREND}) missing from current font.\n",
      "  fig.canvas.print_figure(bytes_io, **kw)\n"
     ]
    },
    {
     "data": {
      "image/png": "[encoded data removed]",
      "text/plain": [
       "<Figure size 1200x600 with 1 Axes>"
      ]
     },
     "metadata": {},
     "output_type": "display_data"
    }
   ],
   "source": [
    "import matplotlib.pyplot as plt\n",
    "import matplotlib.dates as mdates\n",
    "\n",
    "# Ensure Date column is in proper datetime format\n",
    "df[\"Date\"] = pd.to_datetime(df[\"Date\"])\n",
    "\n",
    "# Select only the final recorded portfolio value for each date (ensures one line per date)\n",
    "df_plot = df.groupby(\"Date\")[[\"Total Portfolio Value\"]].last().reset_index()\n",
    "\n",
    "# Apply smoothing (7-day rolling average)\n",
    "df_plot[\"Portfolio Value Smoothed\"] = df_plot[\"Total Portfolio Value\"].rolling(window=7, min_periods=1).mean()\n",
    "# Plot the total portfolio value over time\n",
    "plt.figure(figsize=(12, 6))\n",
    "plt.plot(df_plot[\"Date\"], df_plot[\"Total Portfolio Value\"], label=\"Portfolio Value\", color=\"blue\", linestyle=\"-\")\n",
    "\n",
    "# Format x-axis correctly\n",
    "plt.xlabel(\"Date\")\n",
    "plt.ylabel(\"Portfolio Value ($)\")\n",
    "plt.title(\"📈 Portfolio Performance Over Time\")\n",
    "plt.xticks(rotation=45)  # Rotate x-axis labels for better readability\n",
    "plt.gca().xaxis.set_major_locator(mdates.MonthLocator(interval=3))  # Show labels every 3 months\n",
    "plt.gca().xaxis.set_major_formatter(mdates.DateFormatter(\"%Y-%m\"))  # Format as Year-Month\n",
    "\n",
    "# Ensure only one line is plotted\n",
    "plt.legend()\n",
    "plt.grid(True, linestyle=\"--\", alpha=0.7)\n",
    "\n",
    "plt.show()"
   ]
  },
  {
   "cell_type": "code",
   "execution_count": 76,
   "id": "95e99486-2316-4450-968c-e68cc0177325",
   "metadata": {},
   "outputs": [
    {
     "name": "stdout",
     "output_type": "stream",
     "text": [
      "✅ Enhanced dataset saved at: Python_for_Data_Analysis_II/processed_data_enhanced.csv\n"
     ]
    }
   ],
   "source": [
    "import os\n",
    "\n",
    "# Define new file path for the enhanced dataset\n",
    "enhanced_data_path = \"Python_for_Data_Analysis_II/processed_data_enhanced.csv\"\n",
    "\n",
    "# Ensure the directory exists\n",
    "directory = os.path.dirname(enhanced_data_path)\n",
    "os.makedirs(directory, exist_ok=True)\n",
    "\n",
    "# Save the full dataset with calculated features\n",
    "df.to_csv(enhanced_data_path, index=False)\n",
    "\n",
    "print(f\"✅ Enhanced dataset saved at: {enhanced_data_path}\")"
   ]
  }
 ],
 "metadata": {
  "kernelspec": {
   "display_name": "Python 3 (ipykernel)",
   "language": "python",
   "name": "python3"
  },
  "language_info": {
   "codemirror_mode": {
    "name": "ipython",
    "version": 3
   },
   "file_extension": ".py",
   "mimetype": "text/x-python",
   "name": "python",
   "nbconvert_exporter": "python",
   "pygments_lexer": "ipython3",
   "version": "3.12.4"
  }
 },
 "nbformat": 4,
 "nbformat_minor": 5
}
