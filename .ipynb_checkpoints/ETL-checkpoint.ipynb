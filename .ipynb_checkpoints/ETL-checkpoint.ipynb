{
 "cells": [
  {
   "cell_type": "code",
   "execution_count": 5,
   "id": "ab83d822-2601-41e4-bff8-eacd88f445c6",
   "metadata": {},
   "outputs": [],
   "source": [
    "import polars as pl"
   ]
  },
  {
   "cell_type": "markdown",
   "id": "4a475409-6c44-4445-ab41-05ec9e984ec3",
   "metadata": {},
   "source": [
    "We define the companies that we want to extract before loading the csv files."
   ]
  },
  {
   "cell_type": "code",
   "execution_count": 22,
   "id": "00a5ea73-782d-4714-96b3-9a68aed20fed",
   "metadata": {},
   "outputs": [
    {
     "name": "stdout",
     "output_type": "stream",
     "text": [
      "Schema({'Ticker': String, 'SimFinId': Int64, 'Company Name': String, 'IndustryId': Int64, 'ISIN': String, 'End of financial year (month)': Int64, 'Number Employees': Int64, 'Business Summary': String, 'Market': String, 'CIK': Int64, 'Main Currency': String})\n",
      "shape: (6, 3)\n",
      "┌────────┬──────────────────────┬────────────┐\n",
      "│ Ticker ┆ Company Name         ┆ IndustryId │\n",
      "│ ---    ┆ ---                  ┆ ---        │\n",
      "│ str    ┆ str                  ┆ i64        │\n",
      "╞════════╪══════════════════════╪════════════╡\n",
      "│ AAPL   ┆ APPLE INC            ┆ 101001     │\n",
      "│ AMZN   ┆ AMAZON COM INC       ┆ 103002     │\n",
      "│ GOOG   ┆ Alphabet (Google)    ┆ 101002     │\n",
      "│ META   ┆ Meta Platforms, Inc. ┆ 101002     │\n",
      "│ MSFT   ┆ MICROSOFT CORP       ┆ 101003     │\n",
      "│ NVDA   ┆ NVIDIA CORP          ┆ 101004     │\n",
      "└────────┴──────────────────────┴────────────┘\n"
     ]
    },
    {
     "name": "stderr",
     "output_type": "stream",
     "text": [
      "/var/folders/x4/zkcdjj_53wnfm3vw5z7y9n480000gn/T/ipykernel_3281/1603665858.py:6: PerformanceWarning: Resolving the schema of a LazyFrame is a potentially expensive operation. Use `LazyFrame.collect_schema()` to get the schema without this warning.\n",
      "  print(companies.schema)\n"
     ]
    }
   ],
   "source": [
    "# Load the CSV with the correct separator\n",
    "file_path = \"/Users/robertkoegel/Python_for_Data_Analysis_II/Group_project/data/us-companies.csv\"\n",
    "companies = pl.scan_csv(file_path, separator=\";\")\n",
    "\n",
    "# Print schema to confirm columns are now correctly parsed\n",
    "print(companies.schema)\n",
    "\n",
    "# Select only needed columns\n",
    "companies = companies.select([\"Ticker\", \"Company Name\", \"IndustryId\"])\n",
    "\n",
    "# Filter for BigTech companies\n",
    "BIGTECH_TICKERS = [\"AAPL\", \"GOOG\", \"MSFT\", \"AMZN\", \"NVDA\", \"META\"]\n",
    "companies = companies.filter(pl.col(\"Ticker\").is_in(BIGTECH_TICKERS))\n",
    "\n",
    "# Collect into memory for further processing\n",
    "companies = companies.collect()\n",
    "\n",
    "# Display the filtered companies\n",
    "print(companies)"
   ]
  },
  {
   "cell_type": "code",
   "execution_count": 24,
   "id": "f87f0503-8b3b-41f2-9ef6-c24778b27d36",
   "metadata": {},
   "outputs": [
    {
     "name": "stdout",
     "output_type": "stream",
     "text": [
      "Schema({'Ticker': String, 'SimFinId': Int64, 'Currency': String, 'Fiscal Year': Int64, 'Fiscal Period': String, 'Report Date': String, 'Publish Date': String, 'Restated Date': String, 'Shares (Basic)': Int64, 'Shares (Diluted)': Int64, 'Revenue': Int64, 'Cost of Revenue': Int64, 'Gross Profit': Int64, 'Operating Expenses': Int64, 'Selling, General & Administrative': Int64, 'Research & Development': Int64, 'Depreciation & Amortization': Int64, 'Operating Income (Loss)': Int64, 'Non-Operating Income (Loss)': Int64, 'Interest Expense, Net': Int64, 'Pretax Income (Loss), Adj.': Int64, 'Abnormal Gains (Losses)': Int64, 'Pretax Income (Loss)': Int64, 'Income Tax (Expense) Benefit, Net': Int64, 'Income (Loss) from Continuing Operations': Int64, 'Net Extraordinary Gains (Losses)': Int64, 'Net Income': Int64, 'Net Income (Common)': Int64})\n",
      "shape: (115, 6)\n",
      "┌────────┬─────────────┬───────────────┬─────────────┬────────────────────┬─────────────┐\n",
      "│ Ticker ┆ Fiscal Year ┆ Fiscal Period ┆ Revenue     ┆ Operating Expenses ┆ Net Income  │\n",
      "│ ---    ┆ ---         ┆ ---           ┆ ---         ┆ ---                ┆ ---         │\n",
      "│ str    ┆ i64         ┆ str           ┆ i64         ┆ i64                ┆ i64         │\n",
      "╞════════╪═════════════╪═══════════════╪═════════════╪════════════════════╪═════════════╡\n",
      "│ AAPL   ┆ 2019        ┆ Q3            ┆ 53809000000 ┆ -8683000000        ┆ 10044000000 │\n",
      "│ AAPL   ┆ 2019        ┆ Q4            ┆ 64040000000 ┆ -8688000000        ┆ 13686000000 │\n",
      "│ AAPL   ┆ 2020        ┆ Q1            ┆ 91819000000 ┆ -9648000000        ┆ 22236000000 │\n",
      "│ AAPL   ┆ 2020        ┆ Q2            ┆ 58313000000 ┆ -9517000000        ┆ 11249000000 │\n",
      "│ AAPL   ┆ 2020        ┆ Q3            ┆ 59685000000 ┆ -9589000000        ┆ 11253000000 │\n",
      "│ …      ┆ …           ┆ …             ┆ …           ┆ …                  ┆ …           │\n",
      "│ NVDA   ┆ 2022        ┆ Q4            ┆ 6051000000  ┆ -2577000000        ┆ 1414000000  │\n",
      "│ NVDA   ┆ 2023        ┆ Q1            ┆ 7192000000  ┆ -2508000000        ┆ 2043000000  │\n",
      "│ NVDA   ┆ 2023        ┆ Q2            ┆ 13507000000 ┆ -2662000000        ┆ 6188000000  │\n",
      "│ NVDA   ┆ 2023        ┆ Q3            ┆ 18120000000 ┆ -2983000000        ┆ 9243000000  │\n",
      "│ NVDA   ┆ 2023        ┆ Q4            ┆ 22103000000 ┆ -3177000000        ┆ 12285000000 │\n",
      "└────────┴─────────────┴───────────────┴─────────────┴────────────────────┴─────────────┘\n"
     ]
    },
    {
     "name": "stderr",
     "output_type": "stream",
     "text": [
      "/var/folders/x4/zkcdjj_53wnfm3vw5z7y9n480000gn/T/ipykernel_3281/4164130037.py:6: PerformanceWarning: Resolving the schema of a LazyFrame is a potentially expensive operation. Use `LazyFrame.collect_schema()` to get the schema without this warning.\n",
      "  print(income.schema)\n"
     ]
    }
   ],
   "source": [
    "# Load income data with correct separator\n",
    "file_path = \"/Users/robertkoegel/Python_for_Data_Analysis_II/Group_project/data/us-income-quarterly.csv\"\n",
    "income = pl.scan_csv(file_path, separator=\";\")\n",
    "\n",
    "# Print schema to check correct column parsing\n",
    "print(income.schema)\n",
    "\n",
    "# Select only relevant columns\n",
    "income = income.select([\n",
    "    \"Ticker\", \"Fiscal Year\", \"Fiscal Period\", \"Revenue\", \n",
    "    \"Operating Expenses\", \"Net Income\"\n",
    "])\n",
    "\n",
    "# Filter for BigTech companies\n",
    "BIGTECH_TICKERS = [\"AAPL\", \"GOOG\", \"MSFT\", \"AMZN\", \"NVDA\", \"META\"]\n",
    "income = income.filter(pl.col(\"Ticker\").is_in(BIGTECH_TICKERS))\n",
    "\n",
    "# Collect into memory for further processing\n",
    "income = income.collect()\n",
    "\n",
    "# Display the first few rows\n",
    "print(income)"
   ]
  },
  {
   "cell_type": "code",
   "execution_count": 26,
   "id": "17909958-dba0-4041-bf85-515ec9b4c661",
   "metadata": {},
   "outputs": [
    {
     "name": "stderr",
     "output_type": "stream",
     "text": [
      "/var/folders/x4/zkcdjj_53wnfm3vw5z7y9n480000gn/T/ipykernel_3281/606115320.py:6: PerformanceWarning: Resolving the schema of a LazyFrame is a potentially expensive operation. Use `LazyFrame.collect_schema()` to get the schema without this warning.\n",
      "  print(share_prices.schema)\n"
     ]
    },
    {
     "name": "stdout",
     "output_type": "stream",
     "text": [
      "Schema({'Ticker': String, 'SimFinId': Int64, 'Date': String, 'Open': Float64, 'High': Float64, 'Low': Float64, 'Close': Float64, 'Adj. Close': Float64, 'Volume': Int64, 'Dividend': Float64, 'Shares Outstanding': Int64})\n",
      "shape: (7_434, 5)\n",
      "┌────────┬────────────┬───────┬───────┬────────────┐\n",
      "│ Ticker ┆ Date       ┆ Open  ┆ Close ┆ Volume     │\n",
      "│ ---    ┆ ---        ┆ ---   ┆ ---   ┆ ---        │\n",
      "│ str    ┆ str        ┆ f64   ┆ f64   ┆ i64        │\n",
      "╞════════╪════════════╪═══════╪═══════╪════════════╡\n",
      "│ AAPL   ┆ 2019-04-08 ┆ 49.1  ┆ 50.02 ┆ 103526788  │\n",
      "│ AAPL   ┆ 2019-04-09 ┆ 50.08 ┆ 49.88 ┆ 143072948  │\n",
      "│ AAPL   ┆ 2019-04-10 ┆ 49.67 ┆ 50.16 ┆ 86781152   │\n",
      "│ AAPL   ┆ 2019-04-11 ┆ 50.21 ┆ 49.74 ┆ 83603232   │\n",
      "│ AAPL   ┆ 2019-04-12 ┆ 49.8  ┆ 49.72 ┆ 111042672  │\n",
      "│ …      ┆ …          ┆ …     ┆ …     ┆ …          │\n",
      "│ NVDA   ┆ 2024-03-04 ┆ 84.13 ┆ 85.24 ┆ 615616450  │\n",
      "│ NVDA   ┆ 2024-03-05 ┆ 85.27 ┆ 85.96 ┆ 520639300  │\n",
      "│ NVDA   ┆ 2024-03-06 ┆ 88.02 ┆ 88.7  ┆ 582520300  │\n",
      "│ NVDA   ┆ 2024-03-07 ┆ 90.16 ┆ 92.67 ┆ 608119160  │\n",
      "│ NVDA   ┆ 2024-03-08 ┆ 95.14 ┆ 87.53 ┆ 1142269060 │\n",
      "└────────┴────────────┴───────┴───────┴────────────┘\n"
     ]
    }
   ],
   "source": [
    "# Load daily share prices with correct separator\n",
    "file_path = \"/Users/robertkoegel/Python_for_Data_Analysis_II/Group_project/data/us-shareprices-daily.csv\"\n",
    "share_prices = pl.scan_csv(file_path, separator=\";\")\n",
    "\n",
    "# Print schema to confirm correct parsing\n",
    "print(share_prices.schema)\n",
    "\n",
    "# Select only needed columns\n",
    "share_prices = share_prices.select([\"Ticker\", \"Date\", \"Open\", \"Close\", \"Volume\"])\n",
    "\n",
    "# Filter for BigTech tickers\n",
    "share_prices = share_prices.filter(pl.col(\"Ticker\").is_in(BIGTECH_TICKERS))\n",
    "\n",
    "# Collect filtered data into memory\n",
    "share_prices = share_prices.collect()\n",
    "\n",
    "# Display the first few rows\n",
    "print(share_prices)"
   ]
  },
  {
   "cell_type": "markdown",
   "id": "7fd8bf2e-6976-4756-ac2d-e853dfe81e7d",
   "metadata": {},
   "source": [
    "There are no null values in the dataset, so we can skip the step where we handle null values."
   ]
  },
  {
   "cell_type": "code",
   "execution_count": 13,
   "id": "f0ca543a-1416-43c2-bc8d-b612b9bc46aa",
   "metadata": {},
   "outputs": [
    {
     "name": "stdout",
     "output_type": "stream",
     "text": [
      "shape: (1, 6)\n",
      "┌────────┬─────────────┬───────────────┬─────────┬────────────────────┬────────────┐\n",
      "│ Ticker ┆ Fiscal Year ┆ Fiscal Period ┆ Revenue ┆ Operating Expenses ┆ Net Income │\n",
      "│ ---    ┆ ---         ┆ ---           ┆ ---     ┆ ---                ┆ ---        │\n",
      "│ u32    ┆ u32         ┆ u32           ┆ u32     ┆ u32                ┆ u32        │\n",
      "╞════════╪═════════════╪═══════════════╪═════════╪════════════════════╪════════════╡\n",
      "│ 0      ┆ 0           ┆ 0             ┆ 0       ┆ 0                  ┆ 0          │\n",
      "└────────┴─────────────┴───────────────┴─────────┴────────────────────┴────────────┘\n",
      "shape: (1, 5)\n",
      "┌────────┬──────┬──────┬───────┬────────┐\n",
      "│ Ticker ┆ Date ┆ Open ┆ Close ┆ Volume │\n",
      "│ ---    ┆ ---  ┆ ---  ┆ ---   ┆ ---    │\n",
      "│ u32    ┆ u32  ┆ u32  ┆ u32   ┆ u32    │\n",
      "╞════════╪══════╪══════╪═══════╪════════╡\n",
      "│ 0      ┆ 0    ┆ 0    ┆ 0     ┆ 0      │\n",
      "└────────┴──────┴──────┴───────┴────────┘\n"
     ]
    }
   ],
   "source": [
    "# Count missing values per column\n",
    "income_null_counts = income.null_count()\n",
    "print(income_null_counts)\n",
    "\n",
    "share_prices_null_counts = share_prices.null_count()\n",
    "print(share_prices_null_counts)"
   ]
  },
  {
   "cell_type": "markdown",
   "id": "b34c68c8-a50d-4845-8138-7566d3309a97",
   "metadata": {},
   "source": [
    "Now we merge the companies based on Ticker."
   ]
  },
  {
   "cell_type": "code",
   "execution_count": 15,
   "id": "661ad6e1-63e0-48d9-b0e0-7f4db139bea9",
   "metadata": {},
   "outputs": [
    {
     "name": "stdout",
     "output_type": "stream",
     "text": [
      "shape: (142_485, 12)\n",
      "┌────────┬──────────────┬────────────┬─────────────┬───┬────────────┬───────┬───────┬────────────┐\n",
      "│ Ticker ┆ Company Name ┆ IndustryId ┆ Fiscal Year ┆ … ┆ Date       ┆ Open  ┆ Close ┆ Volume     │\n",
      "│ ---    ┆ ---          ┆ ---        ┆ ---         ┆   ┆ ---        ┆ ---   ┆ ---   ┆ ---        │\n",
      "│ str    ┆ str          ┆ i64        ┆ i64         ┆   ┆ str        ┆ f64   ┆ f64   ┆ i64        │\n",
      "╞════════╪══════════════╪════════════╪═════════════╪═══╪════════════╪═══════╪═══════╪════════════╡\n",
      "│ AAPL   ┆ APPLE INC    ┆ 101001     ┆ 2019        ┆ … ┆ 2019-04-08 ┆ 49.1  ┆ 50.02 ┆ 103526788  │\n",
      "│ AAPL   ┆ APPLE INC    ┆ 101001     ┆ 2019        ┆ … ┆ 2019-04-09 ┆ 50.08 ┆ 49.88 ┆ 143072948  │\n",
      "│ AAPL   ┆ APPLE INC    ┆ 101001     ┆ 2019        ┆ … ┆ 2019-04-10 ┆ 49.67 ┆ 50.16 ┆ 86781152   │\n",
      "│ AAPL   ┆ APPLE INC    ┆ 101001     ┆ 2019        ┆ … ┆ 2019-04-11 ┆ 50.21 ┆ 49.74 ┆ 83603232   │\n",
      "│ AAPL   ┆ APPLE INC    ┆ 101001     ┆ 2019        ┆ … ┆ 2019-04-12 ┆ 49.8  ┆ 49.72 ┆ 111042672  │\n",
      "│ …      ┆ …            ┆ …          ┆ …           ┆ … ┆ …          ┆ …     ┆ …     ┆ …          │\n",
      "│ NVDA   ┆ NVIDIA CORP  ┆ 101004     ┆ 2023        ┆ … ┆ 2024-03-04 ┆ 84.13 ┆ 85.24 ┆ 615616450  │\n",
      "│ NVDA   ┆ NVIDIA CORP  ┆ 101004     ┆ 2023        ┆ … ┆ 2024-03-05 ┆ 85.27 ┆ 85.96 ┆ 520639300  │\n",
      "│ NVDA   ┆ NVIDIA CORP  ┆ 101004     ┆ 2023        ┆ … ┆ 2024-03-06 ┆ 88.02 ┆ 88.7  ┆ 582520300  │\n",
      "│ NVDA   ┆ NVIDIA CORP  ┆ 101004     ┆ 2023        ┆ … ┆ 2024-03-07 ┆ 90.16 ┆ 92.67 ┆ 608119160  │\n",
      "│ NVDA   ┆ NVIDIA CORP  ┆ 101004     ┆ 2023        ┆ … ┆ 2024-03-08 ┆ 95.14 ┆ 87.53 ┆ 1142269060 │\n",
      "└────────┴──────────────┴────────────┴─────────────┴───┴────────────┴───────┴───────┴────────────┘\n"
     ]
    }
   ],
   "source": [
    "merged_data = companies.join(income, on=\"Ticker\", how=\"left\")\n",
    "merged_data = merged_data.join(share_prices, on=\"Ticker\", how=\"left\")\n",
    "print(merged_data)"
   ]
  },
  {
   "cell_type": "markdown",
   "id": "fde3101c-52f0-42fd-aa1a-235e92c8ff9a",
   "metadata": {},
   "source": [
    "Now we save the merged data into a new csv file."
   ]
  },
  {
   "cell_type": "code",
   "execution_count": 17,
   "id": "dddf03db-3e49-4e8b-b7ee-2b3d14fbbe99",
   "metadata": {},
   "outputs": [],
   "source": [
    "# Save merged data to CSV\n",
    "merged_data.write_csv(\"processed_data.csv\")"
   ]
  },
  {
   "cell_type": "markdown",
   "id": "95a801e6-ee53-4d2d-80c9-9fa2a99c8b0f",
   "metadata": {},
   "source": [
    "We are creating a log file together with the first entry to keep track of our progress and to better tackle potential debugging issues."
   ]
  },
  {
   "cell_type": "code",
   "execution_count": 36,
   "id": "4d863cea-63b4-4516-9941-11ad44d3a8bd",
   "metadata": {},
   "outputs": [],
   "source": [
    "import datetime\n",
    "\n",
    "# Define log message\n",
    "log_entry = f\"{datetime.datetime.now()} - ETL process completed successfully\\n\"\n",
    "\n",
    "# Append log entry to the log file (creates the file if it doesn’t exist)\n",
    "with open(\"etl_log.txt\", \"a\") as log_file:\n",
    "    log_file.write(log_entry)"
   ]
  }
 ],
 "metadata": {
  "kernelspec": {
   "display_name": "Python 3 (ipykernel)",
   "language": "python",
   "name": "python3"
  },
  "language_info": {
   "codemirror_mode": {
    "name": "ipython",
    "version": 3
   },
   "file_extension": ".py",
   "mimetype": "text/x-python",
   "name": "python",
   "nbconvert_exporter": "python",
   "pygments_lexer": "ipython3",
   "version": "3.12.4"
  }
 },
 "nbformat": 4,
 "nbformat_minor": 5
}
