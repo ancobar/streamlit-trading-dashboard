{
 "cells": [
  {
   "cell_type": "code",
   "execution_count": 3,
   "id": "8ef2fb80-17f8-47e7-bd41-bfd59a47bf0d",
   "metadata": {},
   "outputs": [
    {
     "name": "stdout",
     "output_type": "stream",
     "text": [
      "Collecting simfin\n",
      "  Downloading simfin-1.0.1-py3-none-any.whl.metadata (637 bytes)\n",
      "Requirement already satisfied: pandas in /opt/anaconda3/lib/python3.12/site-packages (from simfin) (2.2.2)\n",
      "Requirement already satisfied: numpy in /opt/anaconda3/lib/python3.12/site-packages (from simfin) (1.26.4)\n",
      "Requirement already satisfied: requests in /opt/anaconda3/lib/python3.12/site-packages (from simfin) (2.32.2)\n",
      "Requirement already satisfied: python-dateutil>=2.8.2 in /opt/anaconda3/lib/python3.12/site-packages (from pandas->simfin) (2.9.0.post0)\n",
      "Requirement already satisfied: pytz>=2020.1 in /opt/anaconda3/lib/python3.12/site-packages (from pandas->simfin) (2024.1)\n",
      "Requirement already satisfied: tzdata>=2022.7 in /opt/anaconda3/lib/python3.12/site-packages (from pandas->simfin) (2023.3)\n",
      "Requirement already satisfied: charset-normalizer<4,>=2 in /opt/anaconda3/lib/python3.12/site-packages (from requests->simfin) (2.0.4)\n",
      "Requirement already satisfied: idna<4,>=2.5 in /opt/anaconda3/lib/python3.12/site-packages (from requests->simfin) (3.7)\n",
      "Requirement already satisfied: urllib3<3,>=1.21.1 in /opt/anaconda3/lib/python3.12/site-packages (from requests->simfin) (2.2.2)\n",
      "Requirement already satisfied: certifi>=2017.4.17 in /opt/anaconda3/lib/python3.12/site-packages (from requests->simfin) (2024.8.30)\n",
      "Requirement already satisfied: six>=1.5 in /opt/anaconda3/lib/python3.12/site-packages (from python-dateutil>=2.8.2->pandas->simfin) (1.16.0)\n",
      "Downloading simfin-1.0.1-py3-none-any.whl (61 kB)\n",
      "\u001b[2K   \u001b[90m━━━━━━━━━━━━━━━━━━━━━━━━━━━━━━━━━━━━━━━━\u001b[0m \u001b[32m61.6/61.6 kB\u001b[0m \u001b[31m2.9 MB/s\u001b[0m eta \u001b[36m0:00:00\u001b[0m\n",
      "\u001b[?25hInstalling collected packages: simfin\n",
      "Successfully installed simfin-1.0.1\n"
     ]
    }
   ],
   "source": [
    "! pip install simfin"
   ]
  },
  {
   "cell_type": "code",
   "execution_count": 5,
   "id": "9b18e6cb-36e4-412f-8995-14c456861b21",
   "metadata": {},
   "outputs": [
    {
     "name": "stdout",
     "output_type": "stream",
     "text": [
      "Dataset \"us-companies\" on disk (0 days old).\n",
      "- Loading from disk ... Done!\n"
     ]
    },
    {
     "name": "stderr",
     "output_type": "stream",
     "text": [
      "/opt/anaconda3/lib/python3.12/site-packages/simfin/load.py:154: FutureWarning: The argument 'date_parser' is deprecated and will be removed in a future version. Please use 'date_format' instead, or read your data in as 'object' dtype and then call 'to_datetime'.\n",
      "  df = pd.read_csv(path, sep=';', header=0,\n"
     ]
    }
   ],
   "source": [
    "import os\n",
    "import requests\n",
    "import pandas as pd\n",
    "from dotenv import load_dotenv\n",
    "import logging\n",
    "import simfin as sf\n",
    "\n",
    "# Load API key from environment file\n",
    "load_dotenv(\"API_KEY.env\")\n",
    "API_KEY = os.getenv(\"SIMFIN_API_KEY\")\n",
    "data_dir = os.getenv(\"SIMFIN_DATA_DIR\")\n",
    "\n",
    "sf.set_api_key(API_KEY)\n",
    "sf.set_data_dir(data_dir)\n",
    "\n",
    "df_companies = sf.load_companies(market='us')\n"
   ]
  },
  {
   "cell_type": "code",
   "execution_count": 7,
   "id": "5591fc1b-4de5-491b-8903-4a89aad4032b",
   "metadata": {},
   "outputs": [
    {
     "name": "stdout",
     "output_type": "stream",
     "text": [
      "Dataset \"us-shareprices-daily\" not on disk.\n",
      "- Downloading ... 95.2%"
     ]
    },
    {
     "name": "stderr",
     "output_type": "stream",
     "text": [
      "IOPub message rate exceeded.\n",
      "The Jupyter server will temporarily stop sending output\n",
      "to the client in order to avoid crashing it.\n",
      "To change this limit, set the config variable\n",
      "`--ServerApp.iopub_msg_rate_limit`.\n",
      "\n",
      "Current values:\n",
      "ServerApp.iopub_msg_rate_limit=1000.0 (msgs/sec)\n",
      "ServerApp.rate_limit_window=3.0 (secs)\n",
      "\n"
     ]
    },
    {
     "name": "stdout",
     "output_type": "stream",
     "text": [
      "Done!\n",
      "- Loading from disk ... "
     ]
    },
    {
     "name": "stderr",
     "output_type": "stream",
     "text": [
      "/opt/anaconda3/lib/python3.12/site-packages/simfin/load.py:154: FutureWarning: The argument 'date_parser' is deprecated and will be removed in a future version. Please use 'date_format' instead, or read your data in as 'object' dtype and then call 'to_datetime'.\n",
      "  df = pd.read_csv(path, sep=';', header=0,\n"
     ]
    },
    {
     "name": "stdout",
     "output_type": "stream",
     "text": [
      "Done!\n",
      "Dataset \"us-income-quarterly\" not on disk.\n",
      "- Downloading ... 100.0%\n",
      "- Extracting zip-file ... Done!\n",
      "- Loading from disk ... "
     ]
    },
    {
     "name": "stderr",
     "output_type": "stream",
     "text": [
      "/opt/anaconda3/lib/python3.12/site-packages/simfin/load.py:154: FutureWarning: The argument 'date_parser' is deprecated and will be removed in a future version. Please use 'date_format' instead, or read your data in as 'object' dtype and then call 'to_datetime'.\n",
      "  df = pd.read_csv(path, sep=';', header=0,\n"
     ]
    },
    {
     "name": "stdout",
     "output_type": "stream",
     "text": [
      "Done!\n"
     ]
    }
   ],
   "source": [
    "df_shareprice = sf.load_shareprices(variant='daily')\n",
    "df_incomest = sf.load_income(variant='quarterly')"
   ]
  },
  {
   "cell_type": "code",
   "execution_count": 11,
   "id": "31b18aa6-aa9a-47f5-95a7-173daf627261",
   "metadata": {},
   "outputs": [],
   "source": [
    "import polars as pl"
   ]
  },
  {
   "cell_type": "markdown",
   "id": "1cb3884d-c445-4441-ad9b-680e66dec56c",
   "metadata": {},
   "source": [
    "We define the companies that we want to extract before loading the csv files."
   ]
  },
  {
   "cell_type": "code",
   "execution_count": 14,
   "id": "0d09522f-6eaa-4cbf-8d3f-e5eba02c76bf",
   "metadata": {},
   "outputs": [
    {
     "name": "stdout",
     "output_type": "stream",
     "text": [
      "Schema({'Ticker': String, 'SimFinId': Int64, 'Company Name': String, 'IndustryId': Int64, 'ISIN': String, 'End of financial year (month)': Int64, 'Number Employees': Int64, 'Business Summary': String, 'Market': String, 'CIK': Int64, 'Main Currency': String})\n",
      "shape: (6, 3)\n",
      "┌────────┬──────────────────────┬────────────┐\n",
      "│ Ticker ┆ Company Name         ┆ IndustryId │\n",
      "│ ---    ┆ ---                  ┆ ---        │\n",
      "│ str    ┆ str                  ┆ i64        │\n",
      "╞════════╪══════════════════════╪════════════╡\n",
      "│ AAPL   ┆ APPLE INC            ┆ 101001     │\n",
      "│ AMZN   ┆ AMAZON COM INC       ┆ 103002     │\n",
      "│ GOOG   ┆ Alphabet (Google)    ┆ 101002     │\n",
      "│ META   ┆ Meta Platforms, Inc. ┆ 101002     │\n",
      "│ MSFT   ┆ MICROSOFT CORP       ┆ 101003     │\n",
      "│ NVDA   ┆ NVIDIA CORP          ┆ 101004     │\n",
      "└────────┴──────────────────────┴────────────┘\n"
     ]
    },
    {
     "name": "stderr",
     "output_type": "stream",
     "text": [
      "/var/folders/x4/zkcdjj_53wnfm3vw5z7y9n480000gn/T/ipykernel_71246/1886951186.py:5: PerformanceWarning: Resolving the schema of a LazyFrame is a potentially expensive operation. Use `LazyFrame.collect_schema()` to get the schema without this warning.\n",
      "  print(companies.schema)\n"
     ]
    }
   ],
   "source": [
    "# Load the CSV with the correct separator\n",
    "companies = pl.scan_csv(\"us-companies.csv\", separator=\";\")\n",
    "\n",
    "# Print schema to confirm columns are now correctly parsed\n",
    "print(companies.schema)\n",
    "\n",
    "# Select only needed columns\n",
    "companies = companies.select([\"Ticker\", \"Company Name\", \"IndustryId\"])\n",
    "\n",
    "# Filter for BigTech companies\n",
    "BIGTECH_TICKERS = [\"AAPL\", \"GOOG\", \"MSFT\", \"AMZN\", \"NVDA\", \"META\"]\n",
    "companies = companies.filter(pl.col(\"Ticker\").is_in(BIGTECH_TICKERS))\n",
    "\n",
    "# Collect into memory for further processing\n",
    "companies = companies.collect()\n",
    "\n",
    "# Display the filtered companies\n",
    "print(companies)"
   ]
  },
  {
   "cell_type": "code",
   "execution_count": 16,
   "id": "aa5e102b-2e8a-4990-b327-12acd126334b",
   "metadata": {},
   "outputs": [
    {
     "name": "stdout",
     "output_type": "stream",
     "text": [
      "Schema({'Ticker': String, 'SimFinId': Int64, 'Currency': String, 'Fiscal Year': Int64, 'Fiscal Period': String, 'Report Date': String, 'Publish Date': String, 'Restated Date': String, 'Shares (Basic)': Int64, 'Shares (Diluted)': Int64, 'Revenue': Int64, 'Cost of Revenue': Int64, 'Gross Profit': Int64, 'Operating Expenses': Int64, 'Selling, General & Administrative': Int64, 'Research & Development': Int64, 'Depreciation & Amortization': Int64, 'Operating Income (Loss)': Int64, 'Non-Operating Income (Loss)': Int64, 'Interest Expense, Net': Int64, 'Pretax Income (Loss), Adj.': Int64, 'Abnormal Gains (Losses)': Int64, 'Pretax Income (Loss)': Int64, 'Income Tax (Expense) Benefit, Net': Int64, 'Income (Loss) from Continuing Operations': Int64, 'Net Extraordinary Gains (Losses)': Int64, 'Net Income': Int64, 'Net Income (Common)': Int64})\n",
      "shape: (115, 6)\n",
      "┌────────┬─────────────┬───────────────┬─────────────┬────────────────────┬─────────────┐\n",
      "│ Ticker ┆ Fiscal Year ┆ Fiscal Period ┆ Revenue     ┆ Operating Expenses ┆ Net Income  │\n",
      "│ ---    ┆ ---         ┆ ---           ┆ ---         ┆ ---                ┆ ---         │\n",
      "│ str    ┆ i64         ┆ str           ┆ i64         ┆ i64                ┆ i64         │\n",
      "╞════════╪═════════════╪═══════════════╪═════════════╪════════════════════╪═════════════╡\n",
      "│ AAPL   ┆ 2019        ┆ Q3            ┆ 53809000000 ┆ -8683000000        ┆ 10044000000 │\n",
      "│ AAPL   ┆ 2019        ┆ Q4            ┆ 64040000000 ┆ -8688000000        ┆ 13686000000 │\n",
      "│ AAPL   ┆ 2020        ┆ Q1            ┆ 91819000000 ┆ -9648000000        ┆ 22236000000 │\n",
      "│ AAPL   ┆ 2020        ┆ Q2            ┆ 58313000000 ┆ -9517000000        ┆ 11249000000 │\n",
      "│ AAPL   ┆ 2020        ┆ Q3            ┆ 59685000000 ┆ -9589000000        ┆ 11253000000 │\n",
      "│ …      ┆ …           ┆ …             ┆ …           ┆ …                  ┆ …           │\n",
      "│ NVDA   ┆ 2022        ┆ Q4            ┆ 6051000000  ┆ -2577000000        ┆ 1414000000  │\n",
      "│ NVDA   ┆ 2023        ┆ Q1            ┆ 7192000000  ┆ -2508000000        ┆ 2043000000  │\n",
      "│ NVDA   ┆ 2023        ┆ Q2            ┆ 13507000000 ┆ -2662000000        ┆ 6188000000  │\n",
      "│ NVDA   ┆ 2023        ┆ Q3            ┆ 18120000000 ┆ -2983000000        ┆ 9243000000  │\n",
      "│ NVDA   ┆ 2023        ┆ Q4            ┆ 22103000000 ┆ -3177000000        ┆ 12285000000 │\n",
      "└────────┴─────────────┴───────────────┴─────────────┴────────────────────┴─────────────┘\n"
     ]
    },
    {
     "name": "stderr",
     "output_type": "stream",
     "text": [
      "/var/folders/x4/zkcdjj_53wnfm3vw5z7y9n480000gn/T/ipykernel_71246/1102599968.py:5: PerformanceWarning: Resolving the schema of a LazyFrame is a potentially expensive operation. Use `LazyFrame.collect_schema()` to get the schema without this warning.\n",
      "  print(income.schema)\n"
     ]
    }
   ],
   "source": [
    "# Load income data with correct separator\n",
    "income = pl.scan_csv(\"us-income-quarterly.csv\", separator=\";\")\n",
    "\n",
    "# Print schema to check correct column parsing\n",
    "print(income.schema)\n",
    "\n",
    "# Select only relevant columns\n",
    "income = income.select([\n",
    "    \"Ticker\", \"Fiscal Year\", \"Fiscal Period\", \"Revenue\", \n",
    "    \"Operating Expenses\", \"Net Income\"\n",
    "])\n",
    "\n",
    "# Filter for BigTech companies\n",
    "BIGTECH_TICKERS = [\"AAPL\", \"GOOG\", \"MSFT\", \"AMZN\", \"NVDA\", \"META\"]\n",
    "income = income.filter(pl.col(\"Ticker\").is_in(BIGTECH_TICKERS))\n",
    "\n",
    "# Collect into memory for further processing\n",
    "income = income.collect()\n",
    "\n",
    "# Display the first few rows\n",
    "print(income)"
   ]
  },
  {
   "cell_type": "code",
   "execution_count": 18,
   "id": "f190856b-4db6-44d6-a888-4a5219f149ac",
   "metadata": {},
   "outputs": [
    {
     "name": "stderr",
     "output_type": "stream",
     "text": [
      "/var/folders/x4/zkcdjj_53wnfm3vw5z7y9n480000gn/T/ipykernel_71246/3969641464.py:5: PerformanceWarning: Resolving the schema of a LazyFrame is a potentially expensive operation. Use `LazyFrame.collect_schema()` to get the schema without this warning.\n",
      "  print(share_prices.schema)\n"
     ]
    },
    {
     "name": "stdout",
     "output_type": "stream",
     "text": [
      "Schema({'Ticker': String, 'SimFinId': Int64, 'Date': String, 'Open': Float64, 'High': Float64, 'Low': Float64, 'Close': Float64, 'Adj. Close': Float64, 'Volume': Int64, 'Dividend': Float64, 'Shares Outstanding': Int64})\n",
      "shape: (7_440, 4)\n",
      "┌────────┬────────────┬───────┬───────┐\n",
      "│ Ticker ┆ Date       ┆ Open  ┆ Close │\n",
      "│ ---    ┆ ---        ┆ ---   ┆ ---   │\n",
      "│ str    ┆ str        ┆ f64   ┆ f64   │\n",
      "╞════════╪════════════╪═══════╪═══════╡\n",
      "│ AAPL   ┆ 2019-04-10 ┆ 49.67 ┆ 50.16 │\n",
      "│ AAPL   ┆ 2019-04-11 ┆ 50.21 ┆ 49.74 │\n",
      "│ AAPL   ┆ 2019-04-12 ┆ 49.8  ┆ 49.72 │\n",
      "│ AAPL   ┆ 2019-04-15 ┆ 49.65 ┆ 49.81 │\n",
      "│ AAPL   ┆ 2019-04-16 ┆ 49.87 ┆ 49.81 │\n",
      "│ …      ┆ …          ┆ …     ┆ …     │\n",
      "│ NVDA   ┆ 2024-03-07 ┆ 90.16 ┆ 92.67 │\n",
      "│ NVDA   ┆ 2024-03-08 ┆ 95.14 ┆ 87.53 │\n",
      "│ NVDA   ┆ 2024-03-11 ┆ 86.43 ┆ 85.77 │\n",
      "│ NVDA   ┆ 2024-03-12 ┆ 88.05 ┆ 91.91 │\n",
      "│ NVDA   ┆ 2024-03-13 ┆ 91.06 ┆ 90.89 │\n",
      "└────────┴────────────┴───────┴───────┘\n"
     ]
    }
   ],
   "source": [
    "# Load daily share prices with correct separator\n",
    "share_prices = pl.scan_csv(\"us-shareprices-daily.csv\", separator=\";\")\n",
    "\n",
    "# Print schema to confirm correct parsing\n",
    "print(share_prices.schema)\n",
    "\n",
    "# Select only needed columns\n",
    "share_prices = share_prices.select([\"Ticker\", \"Date\", \"Open\", \"Close\"])\n",
    "\n",
    "# Filter for BigTech tickers\n",
    "share_prices = share_prices.filter(pl.col(\"Ticker\").is_in(BIGTECH_TICKERS))\n",
    "\n",
    "# Collect filtered data into memory\n",
    "share_prices = share_prices.collect()\n",
    "\n",
    "# Display the first few rows\n",
    "print(share_prices)"
   ]
  },
  {
   "cell_type": "markdown",
   "id": "7dfa59b5-e6c6-4311-a3f1-9cb37b5db727",
   "metadata": {},
   "source": [
    "There are no null values in the dataset, so we can skip the step where we handle null values."
   ]
  },
  {
   "cell_type": "code",
   "execution_count": 21,
   "id": "738bd039-2b33-4592-bc6c-9e6c5f03596d",
   "metadata": {},
   "outputs": [
    {
     "name": "stdout",
     "output_type": "stream",
     "text": [
      "shape: (1, 6)\n",
      "┌────────┬─────────────┬───────────────┬─────────┬────────────────────┬────────────┐\n",
      "│ Ticker ┆ Fiscal Year ┆ Fiscal Period ┆ Revenue ┆ Operating Expenses ┆ Net Income │\n",
      "│ ---    ┆ ---         ┆ ---           ┆ ---     ┆ ---                ┆ ---        │\n",
      "│ u32    ┆ u32         ┆ u32           ┆ u32     ┆ u32                ┆ u32        │\n",
      "╞════════╪═════════════╪═══════════════╪═════════╪════════════════════╪════════════╡\n",
      "│ 0      ┆ 0           ┆ 0             ┆ 0       ┆ 0                  ┆ 0          │\n",
      "└────────┴─────────────┴───────────────┴─────────┴────────────────────┴────────────┘\n",
      "shape: (1, 4)\n",
      "┌────────┬──────┬──────┬───────┐\n",
      "│ Ticker ┆ Date ┆ Open ┆ Close │\n",
      "│ ---    ┆ ---  ┆ ---  ┆ ---   │\n",
      "│ u32    ┆ u32  ┆ u32  ┆ u32   │\n",
      "╞════════╪══════╪══════╪═══════╡\n",
      "│ 0      ┆ 0    ┆ 0    ┆ 0     │\n",
      "└────────┴──────┴──────┴───────┘\n"
     ]
    }
   ],
   "source": [
    "# Count missing values per column\n",
    "income_null_counts = income.null_count()\n",
    "print(income_null_counts)\n",
    "\n",
    "share_prices_null_counts = share_prices.null_count()\n",
    "print(share_prices_null_counts)"
   ]
  },
  {
   "cell_type": "markdown",
   "id": "6ea81a9a-075d-4eef-a751-2d9dd635fd56",
   "metadata": {},
   "source": [
    "Now we merge the companies based on Ticker."
   ]
  },
  {
   "cell_type": "code",
   "execution_count": 24,
   "id": "567c8f68-8187-4f48-8d55-3d276e1876a4",
   "metadata": {},
   "outputs": [
    {
     "name": "stdout",
     "output_type": "stream",
     "text": [
      "shape: (142_600, 11)\n",
      "┌────────┬──────────────┬────────────┬─────────────┬───┬─────────────┬────────────┬───────┬───────┐\n",
      "│ Ticker ┆ Company Name ┆ IndustryId ┆ Fiscal Year ┆ … ┆ Net Income  ┆ Date       ┆ Open  ┆ Close │\n",
      "│ ---    ┆ ---          ┆ ---        ┆ ---         ┆   ┆ ---         ┆ ---        ┆ ---   ┆ ---   │\n",
      "│ str    ┆ str          ┆ i64        ┆ i64         ┆   ┆ i64         ┆ str        ┆ f64   ┆ f64   │\n",
      "╞════════╪══════════════╪════════════╪═════════════╪═══╪═════════════╪════════════╪═══════╪═══════╡\n",
      "│ AAPL   ┆ APPLE INC    ┆ 101001     ┆ 2019        ┆ … ┆ 10044000000 ┆ 2019-04-10 ┆ 49.67 ┆ 50.16 │\n",
      "│ AAPL   ┆ APPLE INC    ┆ 101001     ┆ 2019        ┆ … ┆ 10044000000 ┆ 2019-04-11 ┆ 50.21 ┆ 49.74 │\n",
      "│ AAPL   ┆ APPLE INC    ┆ 101001     ┆ 2019        ┆ … ┆ 10044000000 ┆ 2019-04-12 ┆ 49.8  ┆ 49.72 │\n",
      "│ AAPL   ┆ APPLE INC    ┆ 101001     ┆ 2019        ┆ … ┆ 10044000000 ┆ 2019-04-15 ┆ 49.65 ┆ 49.81 │\n",
      "│ AAPL   ┆ APPLE INC    ┆ 101001     ┆ 2019        ┆ … ┆ 10044000000 ┆ 2019-04-16 ┆ 49.87 ┆ 49.81 │\n",
      "│ …      ┆ …            ┆ …          ┆ …           ┆ … ┆ …           ┆ …          ┆ …     ┆ …     │\n",
      "│ NVDA   ┆ NVIDIA CORP  ┆ 101004     ┆ 2023        ┆ … ┆ 12285000000 ┆ 2024-03-07 ┆ 90.16 ┆ 92.67 │\n",
      "│ NVDA   ┆ NVIDIA CORP  ┆ 101004     ┆ 2023        ┆ … ┆ 12285000000 ┆ 2024-03-08 ┆ 95.14 ┆ 87.53 │\n",
      "│ NVDA   ┆ NVIDIA CORP  ┆ 101004     ┆ 2023        ┆ … ┆ 12285000000 ┆ 2024-03-11 ┆ 86.43 ┆ 85.77 │\n",
      "│ NVDA   ┆ NVIDIA CORP  ┆ 101004     ┆ 2023        ┆ … ┆ 12285000000 ┆ 2024-03-12 ┆ 88.05 ┆ 91.91 │\n",
      "│ NVDA   ┆ NVIDIA CORP  ┆ 101004     ┆ 2023        ┆ … ┆ 12285000000 ┆ 2024-03-13 ┆ 91.06 ┆ 90.89 │\n",
      "└────────┴──────────────┴────────────┴─────────────┴───┴─────────────┴────────────┴───────┴───────┘\n"
     ]
    }
   ],
   "source": [
    "merged_data = companies.join(income, on=\"Ticker\", how=\"left\")\n",
    "merged_data = merged_data.join(share_prices, on=\"Ticker\", how=\"left\")\n",
    "print(merged_data)"
   ]
  },
  {
   "cell_type": "markdown",
   "id": "e7a0ff3f-bc11-4bc0-adb5-f1d2970742e1",
   "metadata": {},
   "source": [
    "Now we save the merged data into a new csv file."
   ]
  },
  {
   "cell_type": "code",
   "execution_count": 29,
   "id": "17170b37-7800-4a16-aaf4-fba7d70b3e51",
   "metadata": {},
   "outputs": [],
   "source": [
    "# Save merged data to CSV\n",
    "merged_data.write_csv(\"processed_data.csv\")"
   ]
  }
 ],
 "metadata": {
  "kernelspec": {
   "display_name": "Python 3 (ipykernel)",
   "language": "python",
   "name": "python3"
  },
  "language_info": {
   "codemirror_mode": {
    "name": "ipython",
    "version": 3
   },
   "file_extension": ".py",
   "mimetype": "text/x-python",
   "name": "python",
   "nbconvert_exporter": "python",
   "pygments_lexer": "ipython3",
   "version": "3.12.4"
  }
 },
 "nbformat": 4,
 "nbformat_minor": 5
}
