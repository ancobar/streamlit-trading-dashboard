{
 "cells": [
  {
   "cell_type": "code",
   "execution_count": 5,
   "id": "488f8b4b-44ed-4031-a312-62762b0458ab",
   "metadata": {},
   "outputs": [
    {
     "name": "stdout",
     "output_type": "stream",
     "text": [
      "401 {'error': 'Full authentication is required to access this resource'}\n"
     ]
    }
   ],
   "source": [
    "import requests\n",
    "\n",
    "API_KEY = \"dbb062db-091a-40a6-9778-8df7a208db7e\"\n",
    "url = \"https://backend.simfin.com/api/v3/companies/prices\"\n",
    "params = {\"ticker\": \"MSFT\", \"start\": \"2022-01-01\"}\n",
    "\n",
    "response = requests.get(url, headers={\"api-key\": API_KEY}, params=params)\n",
    "print(response.status_code, response.json())  # Debug API response"
   ]
  }
 ],
 "metadata": {
  "kernelspec": {
   "display_name": "Python 3 (ipykernel)",
   "language": "python",
   "name": "python3"
  },
  "language_info": {
   "codemirror_mode": {
    "name": "ipython",
    "version": 3
   },
   "file_extension": ".py",
   "mimetype": "text/x-python",
   "name": "python",
   "nbconvert_exporter": "python",
   "pygments_lexer": "ipython3",
   "version": "3.12.4"
  }
 },
 "nbformat": 4,
 "nbformat_minor": 5
}
